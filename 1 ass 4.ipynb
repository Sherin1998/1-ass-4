{
 "cells": [
  {
   "cell_type": "markdown",
   "metadata": {},
   "source": [
    "#1\n",
    "[] implies list.List is a collection of elements of single or different datatypes.List is a mutable entity and changes can be made in it.List element can be accessed by indices."
   ]
  },
  {
   "cell_type": "code",
   "execution_count": 12,
   "metadata": {},
   "outputs": [
    {
     "name": "stdout",
     "output_type": "stream",
     "text": [
      "[2, 4, 'hello', 6, 8, 10]\n"
     ]
    }
   ],
   "source": [
    "#2\n",
    "spam=[2,4,6,8,10]\n",
    "spam.insert(2,'hello')\n",
    "print(spam)\n"
   ]
  },
  {
   "cell_type": "code",
   "execution_count": 13,
   "metadata": {},
   "outputs": [
    {
     "data": {
      "text/plain": [
       "'d'"
      ]
     },
     "execution_count": 13,
     "metadata": {},
     "output_type": "execute_result"
    }
   ],
   "source": [
    "#3\n",
    "\n",
    "spam=['a','b','c','d']\n",
    "spam[int(int('3'*2)/11)]"
   ]
  },
  {
   "cell_type": "code",
   "execution_count": 17,
   "metadata": {},
   "outputs": [
    {
     "data": {
      "text/plain": [
       "33"
      ]
     },
     "execution_count": 17,
     "metadata": {},
     "output_type": "execute_result"
    }
   ],
   "source": [
    "#4\n",
    "spam[-1]\n"
   ]
  },
  {
   "cell_type": "code",
   "execution_count": 15,
   "metadata": {},
   "outputs": [
    {
     "data": {
      "text/plain": [
       "['a', 'b']"
      ]
     },
     "execution_count": 15,
     "metadata": {},
     "output_type": "execute_result"
    }
   ],
   "source": [
    "#5\n",
    "spam[:2]"
   ]
  },
  {
   "cell_type": "code",
   "execution_count": 18,
   "metadata": {},
   "outputs": [
    {
     "data": {
      "text/plain": [
       "1"
      ]
     },
     "execution_count": 18,
     "metadata": {},
     "output_type": "execute_result"
    }
   ],
   "source": [
    "#6\n",
    "bacon=[3.14,'cat',11,'cat',True]\n",
    "bacon.index('cat')\n"
   ]
  },
  {
   "cell_type": "code",
   "execution_count": 20,
   "metadata": {},
   "outputs": [
    {
     "name": "stdout",
     "output_type": "stream",
     "text": [
      "[3.14, 'cat', 11, 'cat', True, 99, 99]\n"
     ]
    }
   ],
   "source": [
    "#7\n",
    "bacon.append(99)\n",
    "print(bacon)"
   ]
  },
  {
   "cell_type": "code",
   "execution_count": 21,
   "metadata": {},
   "outputs": [
    {
     "name": "stdout",
     "output_type": "stream",
     "text": [
      "[3.14, 11, 'cat', True, 99, 99]\n"
     ]
    }
   ],
   "source": [
    "#8\n",
    "bacon.remove('cat')\n",
    "print(bacon)\n"
   ]
  },
  {
   "cell_type": "markdown",
   "metadata": {},
   "source": [
    "#9\n",
    "Concatenation is done by + operator. Concatenation is supported by sequence data types. Concatenation is done between the same data types only.It requires 2 operands of lists type.\n",
    "Replication is done by * operator.It creates multiple copies of same object and combines it to form a new list ie repetition takes place."
   ]
  },
  {
   "cell_type": "markdown",
   "metadata": {},
   "source": [
    "#10\n",
    ".append() inserts value at the end of list.\n",
    ".insert() inserts value at the position in index specified by user"
   ]
  },
  {
   "cell_type": "markdown",
   "metadata": {},
   "source": [
    "#11\n",
    ".remove() to remove list value based on element.\n",
    ".pop()  to Remove an item by index and get its value\n",
    "\n"
   ]
  },
  {
   "cell_type": "markdown",
   "metadata": {},
   "source": [
    "#12\n",
    "List and strings are both collection of data except that lists can have multiple datatypes.Both of them support index operation.Lists are mutable while string is immutable.\n"
   ]
  },
  {
   "cell_type": "markdown",
   "metadata": {},
   "source": [
    "#13\n",
    "lists are represented by [].List elements are mutable and changes can be made in it.Elements in list can be reassigned and can be deleted using index values.\n",
    "Tuples are denoted by ().Tuple elements are immutable and no changes can be made in it.No deletion or reassigning is possible for tuples."
   ]
  },
  {
   "cell_type": "code",
   "execution_count": 48,
   "metadata": {},
   "outputs": [
    {
     "name": "stdout",
     "output_type": "stream",
     "text": [
      "(42,)     <class 'tuple'>\n"
     ]
    }
   ],
   "source": [
    "#14\n",
    "t=(42,)\n",
    "print(f'{t}     {type(t)}')"
   ]
  },
  {
   "cell_type": "code",
   "execution_count": 49,
   "metadata": {},
   "outputs": [
    {
     "name": "stdout",
     "output_type": "stream",
     "text": [
      "(34, 'sherin', 54, 'Cat', (6, 7, 8))\n"
     ]
    }
   ],
   "source": [
    "#15\n",
    "l=[34,'sherin',54,'Cat',(6,7,8)]\n",
    "print(tuple(l))"
   ]
  },
  {
   "cell_type": "markdown",
   "metadata": {},
   "source": [
    "#16\n",
    "Variables contain reference to the list values rather than list temselves.Python uses references whenever variables must store values of mutable data types, such as lists or dictionaries.So when it is called we actually refer to the reference to list "
   ]
  },
  {
   "cell_type": "markdown",
   "metadata": {},
   "source": [
    "#17\n",
    "Shallow copy creates a new object and stores the refence of the orginal object.This means tht new object points to the previous object.Changes made in the new object will be reflected in the orginal one.In python, this is implemented using copy() function.\n",
    "\n",
    " A deep copy constructs a new compound object and then, recursively, inserts copies into it of the objects found in the original.Thus orginal object is secured and chnages made in the copy is not reflected in orginal one.It is implemented using “deepcopy()” function.\n",
    " \n",
    " "
   ]
  },
  {
   "cell_type": "code",
   "execution_count": null,
   "metadata": {},
   "outputs": [],
   "source": []
  }
 ],
 "metadata": {
  "kernelspec": {
   "display_name": "Python 3",
   "language": "python",
   "name": "python3"
  },
  "language_info": {
   "codemirror_mode": {
    "name": "ipython",
    "version": 3
   },
   "file_extension": ".py",
   "mimetype": "text/x-python",
   "name": "python",
   "nbconvert_exporter": "python",
   "pygments_lexer": "ipython3",
   "version": "3.8.3"
  }
 },
 "nbformat": 4,
 "nbformat_minor": 4
}
